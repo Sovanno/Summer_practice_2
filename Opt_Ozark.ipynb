{
 "cells": [
  {
   "cell_type": "markdown",
   "id": "433580cb-406b-45d2-824c-7711e51491ac",
   "metadata": {},
   "source": [
    "Импортируем нужные библиотеки"
   ]
  },
  {
   "cell_type": "code",
   "execution_count": 21,
   "id": "67722a08-d208-4874-9cc0-502767a41c0c",
   "metadata": {},
   "outputs": [],
   "source": [
    "import pyomo.environ as pyo\n",
    "import highspy\n",
    "import openpyxl"
   ]
  },
  {
   "cell_type": "markdown",
   "id": "861a0208-76c6-46e3-9f63-e9a551e45056",
   "metadata": {},
   "source": [
    "Загрузка данных из Excel-файла"
   ]
  },
  {
   "cell_type": "code",
   "execution_count": 22,
   "id": "ee30a1bd-b90c-42b5-9503-4df2b4a4fe27",
   "metadata": {},
   "outputs": [],
   "source": [
    "wb = openpyxl.load_workbook('feed_data.xlsx')\n",
    "ws = wb.active"
   ]
  },
  {
   "cell_type": "markdown",
   "id": "ccdb7389-71bd-4c8d-8eca-5b37adb20ae8",
   "metadata": {},
   "source": [
    "Создаём экземпляр конкретной модели Pyomo"
   ]
  },
  {
   "cell_type": "code",
   "execution_count": 23,
   "id": "1b86e640-cc63-423d-8201-e95a4556c651",
   "metadata": {},
   "outputs": [],
   "source": [
    "model = pyo.ConcreteModel()"
   ]
  },
  {
   "cell_type": "markdown",
   "id": "56ea2ae0-1ffd-43b6-84f7-ba6a1943e8b8",
   "metadata": {},
   "source": [
    "Создаём множества недель от 1 до 8, а также создаём множества ингредиентов"
   ]
  },
  {
   "cell_type": "code",
   "execution_count": 24,
   "id": "3d5d5a96-7658-4460-bf95-a59c47a3cf5f",
   "metadata": {},
   "outputs": [],
   "source": [
    "model.weeks = pyo.RangeSet(1, 8)\n",
    "model.ingredients = pyo.Set(initialize=['Известняк', 'Зерно', 'Соевая_мука'])"
   ]
  },
  {
   "cell_type": "markdown",
   "id": "10c0e8fb-05db-48b0-8839-a7c5592a66e6",
   "metadata": {},
   "source": [
    "Создаём переменных для решения x, которые представляют количество каждого ингредиента, используемого в каждую неделю(переменные ограничены неотрицательными значениями)"
   ]
  },
  {
   "cell_type": "code",
   "execution_count": 25,
   "id": "aff108be-416c-4a41-b62e-bf920b8a3b59",
   "metadata": {},
   "outputs": [],
   "source": [
    "model.x = pyo.Var(model.weeks, model.ingredients, within=pyo.NonNegativeReals)"
   ]
  },
  {
   "cell_type": "markdown",
   "id": "eb0b2339-54a7-4b1d-9679-6471515d4e79",
   "metadata": {},
   "source": [
    "- Определение еженедельного расхода корма на одного цыпленка\n",
    "- Определение содержания различных питательных веществ в ингредиентах\n",
    "- Определение стоимости ингредиентов за фунт\n",
    "- Определение требований(ограничений) к кормовому рациону.(считываем минимум из Excel таблицы)"
   ]
  },
  {
   "cell_type": "code",
   "execution_count": 26,
   "id": "adcd2a75-b06f-486e-8bfc-5a2e082477b7",
   "metadata": {},
   "outputs": [],
   "source": [
    "model.feed_per_bird = {1: 0.26, 2: 0.48, 3: 0.75, 4: 1.00, 5: 1.30, 6: 1.60, 7: 1.90, 8: 2.10}\n",
    "\n",
    "model.calcium = {'Известняк': 0.380, 'Зерно': 0.001, 'Соевая_мука': 0.002}\n",
    "model.protein = {'Известняк': 0.00, 'Зерно': 0.09, 'Соевая_мука': 0.50}\n",
    "model.fiber = {'Известняк': 0.00, 'Зерно': 0.02, 'Соевая_мука': 0.08}\n",
    "\n",
    "model.cost_per_pound = {'Известняк': 0.12, 'Зерно': 0.45, 'Соевая_мука': 1.60}\n",
    "\n",
    "model.min_calcium = int(ws.cell(row=2, column=2).value * 100)\n",
    "model.max_calcium = 12\n",
    "model.min_protein = int(float(ws.cell(row=3, column=2).value) * 100)\n",
    "model.max_fiber = 5"
   ]
  },
  {
   "cell_type": "markdown",
   "id": "034ad639-44b6-4c69-a5ad-241cb3cc176c",
   "metadata": {},
   "source": [
    "Определение функции для вычисления общей стоимости кормового рациона, а также определение целевой функции, которая минимизирует общую стоимость"
   ]
  },
  {
   "cell_type": "code",
   "execution_count": 27,
   "id": "459a9cf7-55ad-49c7-80bb-1f5e62f19779",
   "metadata": {},
   "outputs": [],
   "source": [
    "def total_cost(model):\n",
    "    return sum(model.x[week, ingredient] * model.cost_per_pound[ingredient] for week in model.weeks for ingredient in model.ingredients)\n",
    "\n",
    "model.objective = pyo.Objective(rule=total_cost, sense=pyo.minimize)"
   ]
  },
  {
   "cell_type": "markdown",
   "id": "eac232e0-ae14-401e-a2c8-454ab65e08da",
   "metadata": {},
   "source": [
    "- Определение функции, которая обеспечивает, чтобы общее количество корма, использованное в каждую неделю, соответствовало еженедельному расходу корма на одного цыпленка\n",
    "- Добавление ограничения на еженедельный расход корма\n",
    "- Определение функций, которые обеспечивают соблюдение требований к содержанию питательных веществ в кормовом рационе\n",
    "- Добавление ограничений на содержание питательных веществ"
   ]
  },
  {
   "cell_type": "code",
   "execution_count": 28,
   "id": "1123b66c-4c83-4af3-aeb6-5f54a208198a",
   "metadata": {},
   "outputs": [],
   "source": [
    "def total_feed_per_bird(model, week):\n",
    "    return sum(model.x[week, ingredient] for ingredient in model.ingredients) == model.feed_per_bird[week] * 20000\n",
    "model.feed_per_bird_limit = pyo.Constraint(model.weeks, rule=total_feed_per_bird)\n",
    "\n",
    "def calcium_min(model, week):\n",
    "    calcium_amount = sum(model.x[week, ingredient] * model.calcium[ingredient] for ingredient in model.ingredients)\n",
    "    total_feed = sum(model.x[week, ingredient] for ingredient in model.ingredients)\n",
    "    return calcium_amount >= model.min_calcium * total_feed / 100\n",
    "model.calcium_limit = pyo.Constraint(model.weeks, rule=calcium_min)\n",
    "\n",
    "def calcium_max(model, week):\n",
    "    calcium_amount = sum(model.x[week, ingredient] * model.calcium[ingredient] for ingredient in model.ingredients)\n",
    "    total_feed = sum(model.x[week, ingredient] for ingredient in model.ingredients)\n",
    "    return calcium_amount <= model.max_calcium * total_feed / 100\n",
    "model.calcium_max_limit = pyo.Constraint(model.weeks, rule=calcium_max)\n",
    "\n",
    "def protein_min(model, week):\n",
    "    protein_amount = sum(model.x[week, ingredient] * model.protein[ingredient] for ingredient in model.ingredients)\n",
    "    total_feed = sum(model.x[week, ingredient] for ingredient in model.ingredients)\n",
    "    return protein_amount >= model.min_protein * total_feed / 100\n",
    "model.protein_limit = pyo.Constraint(model.weeks, rule=protein_min)\n",
    "\n",
    "def fiber_max(model, week):\n",
    "    fiber_amount = sum(model.x[week, ingredient] * model.fiber[ingredient] for ingredient in model.ingredients)\n",
    "    total_feed = sum(model.x[week, ingredient] for ingredient in model.ingredients)\n",
    "    return fiber_amount <= model.max_fiber * total_feed / 100\n",
    "model.fiber_limit = pyo.Constraint(model.weeks, rule=fiber_max)"
   ]
  },
  {
   "cell_type": "markdown",
   "id": "49feb25a-e769-41d3-b264-b46f0d5098b0",
   "metadata": {},
   "source": [
    "- Создание экземпляра solver, который будет использоваться для решения задачи оптимизации\n",
    "- Решение оптимизационной задачи\n",
    "- Получение значения целевой функции (общей стоимости)\n",
    "- Итерация по неделям и вывод количества каждого ингредиента, используемого в каждую неделю"
   ]
  },
  {
   "cell_type": "code",
   "execution_count": 29,
   "id": "ecaeaafb-1eb8-48d6-b5d4-ff3a03436115",
   "metadata": {},
   "outputs": [
    {
     "name": "stdout",
     "output_type": "stream",
     "text": [
      "Общая стоимость кормового рациона: 148429.64\n",
      "Неделя 1:\n",
      "Известняк: 1627.42 фунтов\n",
      "Зерно: 1566.56 фунтов\n",
      "Соевая_мука: 2006.02 фунтов\n",
      "\n",
      "Неделя 2:\n",
      "Известняк: 3004.48 фунтов\n",
      "Зерно: 2892.10 фунтов\n",
      "Соевая_мука: 3703.42 фунтов\n",
      "\n",
      "Неделя 3:\n",
      "Известняк: 4694.49 фунтов\n",
      "Зерно: 4518.91 фунтов\n",
      "Соевая_мука: 5786.60 фунтов\n",
      "\n",
      "Неделя 4:\n",
      "Известняк: 6259.33 фунтов\n",
      "Зерно: 6025.21 фунтов\n",
      "Соевая_мука: 7715.46 фунтов\n",
      "\n",
      "Неделя 5:\n",
      "Известняк: 8137.12 фунтов\n",
      "Зерно: 7832.78 фунтов\n",
      "Соевая_мука: 10030.10 фунтов\n",
      "\n",
      "Неделя 6:\n",
      "Известняк: 10014.92 фунтов\n",
      "Зерно: 9640.34 фунтов\n",
      "Соевая_мука: 12344.74 фунтов\n",
      "\n",
      "Неделя 7:\n",
      "Известняк: 11892.72 фунтов\n",
      "Зерно: 11447.90 фунтов\n",
      "Соевая_мука: 14659.38 фунтов\n",
      "\n",
      "Неделя 8:\n",
      "Известняк: 13144.58 фунтов\n",
      "Зерно: 12652.95 фунтов\n",
      "Соевая_мука: 16202.47 фунтов\n",
      "\n"
     ]
    }
   ],
   "source": [
    "solver = pyo.SolverFactory('appsi_highs')\n",
    "solver.solve(model)\n",
    "\n",
    "total_cost_value = model.objective()\n",
    "print(f\"Общая стоимость кормового рациона: {total_cost_value:.2f}\")\n",
    "\n",
    "for week in model.weeks:\n",
    "    print(f\"Неделя {week}:\")\n",
    "    for ingredient in model.ingredients:\n",
    "        print(f\"{ingredient}: {model.x[week, ingredient].value:.2f} фунтов\")\n",
    "    print()"
   ]
  },
  {
   "cell_type": "code",
   "execution_count": null,
   "id": "daa4386e-fe42-4443-a9a9-41073da0b680",
   "metadata": {},
   "outputs": [],
   "source": []
  }
 ],
 "metadata": {
  "kernelspec": {
   "display_name": "Python 3 (ipykernel)",
   "language": "python",
   "name": "python3"
  },
  "language_info": {
   "codemirror_mode": {
    "name": "ipython",
    "version": 3
   },
   "file_extension": ".py",
   "mimetype": "text/x-python",
   "name": "python",
   "nbconvert_exporter": "python",
   "pygments_lexer": "ipython3",
   "version": "3.11.2"
  }
 },
 "nbformat": 4,
 "nbformat_minor": 5
}
